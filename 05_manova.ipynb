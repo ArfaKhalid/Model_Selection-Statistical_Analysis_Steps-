{
 "cells": [
  {
   "cell_type": "code",
   "execution_count": 1,
   "metadata": {},
   "outputs": [],
   "source": [
    "# import libraries\n",
    "import seaborn as sns\n",
    "import pandas as pd\n",
    "import matplotlib.pyplot as plt\n",
    "from statsmodels.multivariate.manova import MANOVA"
   ]
  },
  {
   "cell_type": "code",
   "execution_count": 2,
   "metadata": {},
   "outputs": [
    {
     "data": {
      "text/html": [
       "<div>\n",
       "<style scoped>\n",
       "    .dataframe tbody tr th:only-of-type {\n",
       "        vertical-align: middle;\n",
       "    }\n",
       "\n",
       "    .dataframe tbody tr th {\n",
       "        vertical-align: top;\n",
       "    }\n",
       "\n",
       "    .dataframe thead th {\n",
       "        text-align: right;\n",
       "    }\n",
       "</style>\n",
       "<table border=\"1\" class=\"dataframe\">\n",
       "  <thead>\n",
       "    <tr style=\"text-align: right;\">\n",
       "      <th></th>\n",
       "      <th>sepal_length</th>\n",
       "      <th>sepal_width</th>\n",
       "      <th>petal_length</th>\n",
       "      <th>petal_width</th>\n",
       "      <th>species</th>\n",
       "    </tr>\n",
       "  </thead>\n",
       "  <tbody>\n",
       "    <tr>\n",
       "      <th>0</th>\n",
       "      <td>5.1</td>\n",
       "      <td>3.5</td>\n",
       "      <td>1.4</td>\n",
       "      <td>0.2</td>\n",
       "      <td>setosa</td>\n",
       "    </tr>\n",
       "    <tr>\n",
       "      <th>1</th>\n",
       "      <td>4.9</td>\n",
       "      <td>3.0</td>\n",
       "      <td>1.4</td>\n",
       "      <td>0.2</td>\n",
       "      <td>setosa</td>\n",
       "    </tr>\n",
       "    <tr>\n",
       "      <th>2</th>\n",
       "      <td>4.7</td>\n",
       "      <td>3.2</td>\n",
       "      <td>1.3</td>\n",
       "      <td>0.2</td>\n",
       "      <td>setosa</td>\n",
       "    </tr>\n",
       "    <tr>\n",
       "      <th>3</th>\n",
       "      <td>4.6</td>\n",
       "      <td>3.1</td>\n",
       "      <td>1.5</td>\n",
       "      <td>0.2</td>\n",
       "      <td>setosa</td>\n",
       "    </tr>\n",
       "    <tr>\n",
       "      <th>4</th>\n",
       "      <td>5.0</td>\n",
       "      <td>3.6</td>\n",
       "      <td>1.4</td>\n",
       "      <td>0.2</td>\n",
       "      <td>setosa</td>\n",
       "    </tr>\n",
       "  </tbody>\n",
       "</table>\n",
       "</div>"
      ],
      "text/plain": [
       "   sepal_length  sepal_width  petal_length  petal_width species\n",
       "0           5.1          3.5           1.4          0.2  setosa\n",
       "1           4.9          3.0           1.4          0.2  setosa\n",
       "2           4.7          3.2           1.3          0.2  setosa\n",
       "3           4.6          3.1           1.5          0.2  setosa\n",
       "4           5.0          3.6           1.4          0.2  setosa"
      ]
     },
     "execution_count": 2,
     "metadata": {},
     "output_type": "execute_result"
    }
   ],
   "source": [
    "# load dataset\n",
    "df = sns.load_dataset(\"iris\")\n",
    "df.head()"
   ]
  },
  {
   "cell_type": "code",
   "execution_count": 3,
   "metadata": {},
   "outputs": [
    {
     "data": {
      "text/plain": [
       "Index(['sepal_length', 'sepal_width', 'petal_length', 'petal_width',\n",
       "       'species'],\n",
       "      dtype='object')"
      ]
     },
     "execution_count": 3,
     "metadata": {},
     "output_type": "execute_result"
    }
   ],
   "source": [
    "df.columns"
   ]
  },
  {
   "cell_type": "code",
   "execution_count": 14,
   "metadata": {},
   "outputs": [
    {
     "name": "stdout",
     "output_type": "stream",
     "text": [
      "                   Multivariate linear model\n",
      "================================================================\n",
      "                                                                \n",
      "----------------------------------------------------------------\n",
      "       Intercept         Value  Num DF  Den DF   F Value  Pr > F\n",
      "----------------------------------------------------------------\n",
      "          Wilks' lambda  0.0170 4.0000 144.0000 2086.7720 0.0000\n",
      "         Pillai's trace  0.9830 4.0000 144.0000 2086.7720 0.0000\n",
      " Hotelling-Lawley trace 57.9659 4.0000 144.0000 2086.7720 0.0000\n",
      "    Roy's greatest root 57.9659 4.0000 144.0000 2086.7720 0.0000\n",
      "----------------------------------------------------------------\n",
      "                                                                \n",
      "----------------------------------------------------------------\n",
      "        species          Value  Num DF  Den DF   F Value  Pr > F\n",
      "----------------------------------------------------------------\n",
      "          Wilks' lambda  0.0234 8.0000 288.0000  199.1453 0.0000\n",
      "         Pillai's trace  1.1919 8.0000 290.0000   53.4665 0.0000\n",
      " Hotelling-Lawley trace 32.4773 8.0000 203.4024  582.1970 0.0000\n",
      "    Roy's greatest root 32.1919 4.0000 145.0000 1166.9574 0.0000\n",
      "================================================================\n",
      "\n"
     ]
    }
   ],
   "source": [
    "# manova\n",
    "m_anova = MANOVA.from_formula('sepal_length + sepal_width + petal_length + petal_width ~ species', data=df)\n",
    "print(m_anova.mv_test())\n",
    "result = m_anova.mv_test()\n"
   ]
  },
  {
   "attachments": {},
   "cell_type": "markdown",
   "metadata": {},
   "source": [
    "# Interpretation - MANOVA intercept interactions\n",
    "- The p-value to consider in this case is that of wilks' lambda, relative to the output variable can see, even in above case it is significant.\n",
    "- This analysis shows that the relationship between different variables is strong and statistically significant. It suggests that the factors being studied have a significant impact on the outcomes, as indicated by low p-values (Pr > F). Different statistical measures, like Wilks' lambda, Pillai's trace, Hotelling-Lawley trace, and Roy's greatest root, all indicate strong relationships and high levels of significance. This means that the variables being examined have a substantial influence on the results, and this influence is unlikely to be due to random chance."
   ]
  },
  {
   "attachments": {},
   "cell_type": "markdown",
   "metadata": {},
   "source": [
    "# Save result in Table form "
   ]
  },
  {
   "cell_type": "code",
   "execution_count": 16,
   "metadata": {},
   "outputs": [],
   "source": [
    "import pandas as pd\n",
    "\n",
    "# Given result data\n",
    "intercept_data = [\n",
    "    (\"Wilks' lambda\", 0.0170, 4.0000, 144.0000, 2086.7720, 0.0000),\n",
    "    (\"Pillai's trace\", 0.9830, 4.0000, 144.0000, 2086.7720, 0.0000),\n",
    "    (\"Hotelling-Lawley trace\", 57.9659, 4.0000, 144.0000, 2086.7720, 0.0000),\n",
    "    (\"Roy's greatest root\", 57.9659, 4.0000, 144.0000, 2086.7720, 0.0000)\n",
    "]\n",
    "\n",
    "species_data = [\n",
    "    (\"Wilks' lambda\", 0.0234, 8.0000, 288.0000, 199.1453, 0.0000),\n",
    "    (\"Pillai's trace\", 1.1919, 8.0000, 290.0000, 53.4665, 0.0000),\n",
    "    (\"Hotelling-Lawley trace\", 32.4773, 8.0000, 203.4024, 582.1970, 0.0000),\n",
    "    (\"Roy's greatest root\", 32.1919, 4.0000, 145.0000, 1166.9574, 0.0000)\n",
    "]\n",
    "\n",
    "# Create DataFrames\n",
    "intercept_df = pd.DataFrame(intercept_data, columns=[\"Measure\", \"Value\", \"Num DF\", \"Den DF\", \"F Value\", \"Pr > F\"])\n",
    "species_df = pd.DataFrame(species_data, columns=[\"Measure\", \"Value\", \"Num DF\", \"Den DF\", \"F Value\", \"Pr > F\"])\n",
    "\n",
    "# Save as CSV\n",
    "intercept_df.to_csv(\"intercept_results.csv\", index=False)\n",
    "species_df.to_csv(\"species_results.csv\", index=False)\n",
    "\n",
    "# Save as Excel\n",
    "intercept_df.to_excel(\"intercept_results.xlsx\", index=False)\n",
    "species_df.to_excel(\"species_results.xlsx\", index=False)\n",
    "\n"
   ]
  }
 ],
 "metadata": {
  "kernelspec": {
   "display_name": "Python 3",
   "language": "python",
   "name": "python3"
  },
  "language_info": {
   "codemirror_mode": {
    "name": "ipython",
    "version": 3
   },
   "file_extension": ".py",
   "mimetype": "text/x-python",
   "name": "python",
   "nbconvert_exporter": "python",
   "pygments_lexer": "ipython3",
   "version": "3.10.5"
  },
  "orig_nbformat": 4
 },
 "nbformat": 4,
 "nbformat_minor": 2
}
